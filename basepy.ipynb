{
 "cells": [
  {
   "cell_type": "code",
   "execution_count": 1,
   "id": "c8013380-a9c7-4a25-8e09-0f670c24ea60",
   "metadata": {},
   "outputs": [
    {
     "name": "stdout",
     "output_type": "stream",
     "text": [
      "this is the new world\n"
     ]
    }
   ],
   "source": [
    "print(\"this is the new world\")"
   ]
  },
  {
   "cell_type": "code",
   "execution_count": 2,
   "id": "ed3650a0-5f32-4a14-a481-b003a648cb9f",
   "metadata": {},
   "outputs": [
    {
     "data": {
      "text/plain": [
       "<Axes: >"
      ]
     },
     "execution_count": 2,
     "metadata": {},
     "output_type": "execute_result"
    },
    {
     "data": {
      "image/png": "[encoded data removed]",
      "text/plain": [
       "<Figure size 640x480 with 1 Axes>"
      ]
     },
     "metadata": {},
     "output_type": "display_data"
    }
   ],
   "source": [
    "import pandas as pd\n",
    "from matplotlib.pyplot import plot\n",
    "my_dict = {\"A\": [1,2,3,4],\n",
    "           \"B\": [5,6,7,8],\n",
    "           \"C\": [9,10,11,12]}\n",
    "df = pd.DataFrame(my_dict)\n",
    "\n",
    "df.plot.barh()"
   ]
  },
  {
   "cell_type": "code",
   "execution_count": 17,
   "id": "6122b6af-bafb-4bf1-b374-473bb8b4b562",
   "metadata": {},
   "outputs": [
    {
     "name": "stdout",
     "output_type": "stream",
     "text": [
      "[WindowsPath('.ipynb_checkpoints')]\n",
      "C:\\projects\\python\\jupyternotebook\n"
     ]
    }
   ],
   "source": [
    "from pathlib import Path\n",
    "\n",
    "path = Path('C:\\\\projects\\\\python\\\\jupyternotebook')\n",
    "path01 = Path('.')\n",
    "li = [x for x in path01.iterdir() if x.is_dir()]\n",
    "\n",
    "print(li)\n",
    "print(path.cwd())"
   ]
  },
  {
   "cell_type": "code",
   "execution_count": null,
   "id": "6893eed0-7858-4335-9ba2-eb21cadafc4a",
   "metadata": {},
   "outputs": [],
   "source": []
  }
 ],
 "metadata": {
  "kernelspec": {
   "display_name": "Python 3 (ipykernel)",
   "language": "python",
   "name": "python3"
  },
  "language_info": {
   "codemirror_mode": {
    "name": "ipython",
    "version": 3
   },
   "file_extension": ".py",
   "mimetype": "text/x-python",
   "name": "python",
   "nbconvert_exporter": "python",
   "pygments_lexer": "ipython3",
   "version": "3.12.1"
  }
 },
 "nbformat": 4,
 "nbformat_minor": 5
}
